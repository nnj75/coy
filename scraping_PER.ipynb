{
 "cells": [
  {
   "cell_type": "code",
   "execution_count": 179,
   "id": "b9af72de",
   "metadata": {},
   "outputs": [],
   "source": [
    "from selenium import webdriver\n",
    "import time\n",
    "import pandas as pd"
   ]
  },
  {
   "cell_type": "code",
   "execution_count": 183,
   "id": "668bb462",
   "metadata": {},
   "outputs": [],
   "source": [
    "driver = webdriver.Chrome()"
   ]
  },
  {
   "cell_type": "code",
   "execution_count": 184,
   "id": "f4b61fd0",
   "metadata": {},
   "outputs": [],
   "source": [
    "driver.get('https://www.basketball-reference.com/leagues/NBA_2022.html')"
   ]
  },
  {
   "cell_type": "code",
   "execution_count": 182,
   "id": "ab1cf0df",
   "metadata": {},
   "outputs": [
    {
     "ename": "WebDriverException",
     "evalue": "Message: unknown error: cannot determine loading status\nfrom unknown error: unexpected command response\n  (Session info: chrome=103.0.5060.53)\n",
     "output_type": "error",
     "traceback": [
      "\u001b[0;31m---------------------------------------------------------------------------\u001b[0m",
      "\u001b[0;31mWebDriverException\u001b[0m                        Traceback (most recent call last)",
      "Input \u001b[0;32mIn [182]\u001b[0m, in \u001b[0;36m<cell line: 2>\u001b[0;34m()\u001b[0m\n\u001b[1;32m      1\u001b[0m \u001b[38;5;66;03m#driver.execute_script('window.scrollBy(0, 400)')\u001b[39;00m\n\u001b[0;32m----> 2\u001b[0m \u001b[43mdriver\u001b[49m\u001b[38;5;241;43m.\u001b[39;49m\u001b[43mfind_element_by_xpath\u001b[49m\u001b[43m(\u001b[49m\u001b[38;5;124;43m'\u001b[39;49m\u001b[38;5;124;43m//*[@id=\u001b[39;49m\u001b[38;5;124;43m\"\u001b[39;49m\u001b[38;5;124;43mconfs_standings_W\u001b[39;49m\u001b[38;5;124;43m\"\u001b[39;49m\u001b[38;5;124;43m]/tbody/tr[14]/th/a\u001b[39;49m\u001b[38;5;124;43m'\u001b[39;49m\u001b[43m)\u001b[49m\u001b[38;5;241;43m.\u001b[39;49m\u001b[43mclick\u001b[49m\u001b[43m(\u001b[49m\u001b[43m)\u001b[49m\n",
      "File \u001b[0;32m/Applications/anaconda3/envs/web_scraping/lib/python3.9/site-packages/selenium/webdriver/remote/webelement.py:80\u001b[0m, in \u001b[0;36mWebElement.click\u001b[0;34m(self)\u001b[0m\n\u001b[1;32m     78\u001b[0m \u001b[38;5;28;01mdef\u001b[39;00m \u001b[38;5;21mclick\u001b[39m(\u001b[38;5;28mself\u001b[39m):\n\u001b[1;32m     79\u001b[0m     \u001b[38;5;124;03m\"\"\"Clicks the element.\"\"\"\u001b[39;00m\n\u001b[0;32m---> 80\u001b[0m     \u001b[38;5;28;43mself\u001b[39;49m\u001b[38;5;241;43m.\u001b[39;49m\u001b[43m_execute\u001b[49m\u001b[43m(\u001b[49m\u001b[43mCommand\u001b[49m\u001b[38;5;241;43m.\u001b[39;49m\u001b[43mCLICK_ELEMENT\u001b[49m\u001b[43m)\u001b[49m\n",
      "File \u001b[0;32m/Applications/anaconda3/envs/web_scraping/lib/python3.9/site-packages/selenium/webdriver/remote/webelement.py:633\u001b[0m, in \u001b[0;36mWebElement._execute\u001b[0;34m(self, command, params)\u001b[0m\n\u001b[1;32m    631\u001b[0m     params \u001b[38;5;241m=\u001b[39m {}\n\u001b[1;32m    632\u001b[0m params[\u001b[38;5;124m'\u001b[39m\u001b[38;5;124mid\u001b[39m\u001b[38;5;124m'\u001b[39m] \u001b[38;5;241m=\u001b[39m \u001b[38;5;28mself\u001b[39m\u001b[38;5;241m.\u001b[39m_id\n\u001b[0;32m--> 633\u001b[0m \u001b[38;5;28;01mreturn\u001b[39;00m \u001b[38;5;28;43mself\u001b[39;49m\u001b[38;5;241;43m.\u001b[39;49m\u001b[43m_parent\u001b[49m\u001b[38;5;241;43m.\u001b[39;49m\u001b[43mexecute\u001b[49m\u001b[43m(\u001b[49m\u001b[43mcommand\u001b[49m\u001b[43m,\u001b[49m\u001b[43m \u001b[49m\u001b[43mparams\u001b[49m\u001b[43m)\u001b[49m\n",
      "File \u001b[0;32m/Applications/anaconda3/envs/web_scraping/lib/python3.9/site-packages/selenium/webdriver/remote/webdriver.py:321\u001b[0m, in \u001b[0;36mWebDriver.execute\u001b[0;34m(self, driver_command, params)\u001b[0m\n\u001b[1;32m    319\u001b[0m response \u001b[38;5;241m=\u001b[39m \u001b[38;5;28mself\u001b[39m\u001b[38;5;241m.\u001b[39mcommand_executor\u001b[38;5;241m.\u001b[39mexecute(driver_command, params)\n\u001b[1;32m    320\u001b[0m \u001b[38;5;28;01mif\u001b[39;00m response:\n\u001b[0;32m--> 321\u001b[0m     \u001b[38;5;28;43mself\u001b[39;49m\u001b[38;5;241;43m.\u001b[39;49m\u001b[43merror_handler\u001b[49m\u001b[38;5;241;43m.\u001b[39;49m\u001b[43mcheck_response\u001b[49m\u001b[43m(\u001b[49m\u001b[43mresponse\u001b[49m\u001b[43m)\u001b[49m\n\u001b[1;32m    322\u001b[0m     response[\u001b[38;5;124m'\u001b[39m\u001b[38;5;124mvalue\u001b[39m\u001b[38;5;124m'\u001b[39m] \u001b[38;5;241m=\u001b[39m \u001b[38;5;28mself\u001b[39m\u001b[38;5;241m.\u001b[39m_unwrap_value(\n\u001b[1;32m    323\u001b[0m         response\u001b[38;5;241m.\u001b[39mget(\u001b[38;5;124m'\u001b[39m\u001b[38;5;124mvalue\u001b[39m\u001b[38;5;124m'\u001b[39m, \u001b[38;5;28;01mNone\u001b[39;00m))\n\u001b[1;32m    324\u001b[0m     \u001b[38;5;28;01mreturn\u001b[39;00m response\n",
      "File \u001b[0;32m/Applications/anaconda3/envs/web_scraping/lib/python3.9/site-packages/selenium/webdriver/remote/errorhandler.py:242\u001b[0m, in \u001b[0;36mErrorHandler.check_response\u001b[0;34m(self, response)\u001b[0m\n\u001b[1;32m    240\u001b[0m         alert_text \u001b[38;5;241m=\u001b[39m value[\u001b[38;5;124m'\u001b[39m\u001b[38;5;124malert\u001b[39m\u001b[38;5;124m'\u001b[39m]\u001b[38;5;241m.\u001b[39mget(\u001b[38;5;124m'\u001b[39m\u001b[38;5;124mtext\u001b[39m\u001b[38;5;124m'\u001b[39m)\n\u001b[1;32m    241\u001b[0m     \u001b[38;5;28;01mraise\u001b[39;00m exception_class(message, screen, stacktrace, alert_text)\n\u001b[0;32m--> 242\u001b[0m \u001b[38;5;28;01mraise\u001b[39;00m exception_class(message, screen, stacktrace)\n",
      "\u001b[0;31mWebDriverException\u001b[0m: Message: unknown error: cannot determine loading status\nfrom unknown error: unexpected command response\n  (Session info: chrome=103.0.5060.53)\n"
     ]
    }
   ],
   "source": [
    "#driver.execute_script('window.scrollBy(0, 400)')\n",
    "driver.find_element_by_xpath('//*[@id=\"confs_standings_W\"]/tbody/tr[14]/th/a').click()"
   ]
  },
  {
   "cell_type": "code",
   "execution_count": 5,
   "id": "695ab722",
   "metadata": {},
   "outputs": [
    {
     "ename": "WebDriverException",
     "evalue": "Message: unknown error: unexpected command response\n  (Session info: chrome=103.0.5060.53)\n",
     "output_type": "error",
     "traceback": [
      "\u001b[0;31m---------------------------------------------------------------------------\u001b[0m",
      "\u001b[0;31mWebDriverException\u001b[0m                        Traceback (most recent call last)",
      "Input \u001b[0;32mIn [5]\u001b[0m, in \u001b[0;36m<cell line: 8>\u001b[0;34m()\u001b[0m\n\u001b[1;32m     23\u001b[0m min_PERs\u001b[38;5;241m.\u001b[39mappend(\u001b[38;5;28mmin\u001b[39m(PERs))\n\u001b[1;32m     24\u001b[0m avg_PERs\u001b[38;5;241m.\u001b[39mappend(\u001b[38;5;28mround\u001b[39m(\u001b[38;5;28msum\u001b[39m(PERs) \u001b[38;5;241m/\u001b[39m \u001b[38;5;28mlen\u001b[39m(PERs), \u001b[38;5;241m2\u001b[39m))\n\u001b[0;32m---> 26\u001b[0m go_prev \u001b[38;5;241m=\u001b[39m \u001b[43mdriver\u001b[49m\u001b[38;5;241;43m.\u001b[39;49m\u001b[43mfind_element_by_xpath\u001b[49m\u001b[43m(\u001b[49m\u001b[38;5;124;43m'\u001b[39;49m\u001b[38;5;124;43m//*[@id=\u001b[39;49m\u001b[38;5;124;43m\"\u001b[39;49m\u001b[38;5;124;43mmeta\u001b[39;49m\u001b[38;5;124;43m\"\u001b[39;49m\u001b[38;5;124;43m]/div[2]/div/a/div\u001b[39;49m\u001b[38;5;124;43m'\u001b[39;49m\u001b[43m)\u001b[49m\n\u001b[1;32m     27\u001b[0m go_prev\u001b[38;5;241m.\u001b[39mclick()\n\u001b[1;32m     28\u001b[0m time\u001b[38;5;241m.\u001b[39msleep(\u001b[38;5;241m2\u001b[39m)\n",
      "File \u001b[0;32m/Applications/anaconda3/envs/web_scraping/lib/python3.9/site-packages/selenium/webdriver/remote/webdriver.py:394\u001b[0m, in \u001b[0;36mWebDriver.find_element_by_xpath\u001b[0;34m(self, xpath)\u001b[0m\n\u001b[1;32m    378\u001b[0m \u001b[38;5;28;01mdef\u001b[39;00m \u001b[38;5;21mfind_element_by_xpath\u001b[39m(\u001b[38;5;28mself\u001b[39m, xpath):\n\u001b[1;32m    379\u001b[0m     \u001b[38;5;124;03m\"\"\"\u001b[39;00m\n\u001b[1;32m    380\u001b[0m \u001b[38;5;124;03m    Finds an element by xpath.\u001b[39;00m\n\u001b[1;32m    381\u001b[0m \n\u001b[0;32m   (...)\u001b[0m\n\u001b[1;32m    392\u001b[0m \u001b[38;5;124;03m        element = driver.find_element_by_xpath('//div/td[1]')\u001b[39;00m\n\u001b[1;32m    393\u001b[0m \u001b[38;5;124;03m    \"\"\"\u001b[39;00m\n\u001b[0;32m--> 394\u001b[0m     \u001b[38;5;28;01mreturn\u001b[39;00m \u001b[38;5;28;43mself\u001b[39;49m\u001b[38;5;241;43m.\u001b[39;49m\u001b[43mfind_element\u001b[49m\u001b[43m(\u001b[49m\u001b[43mby\u001b[49m\u001b[38;5;241;43m=\u001b[39;49m\u001b[43mBy\u001b[49m\u001b[38;5;241;43m.\u001b[39;49m\u001b[43mXPATH\u001b[49m\u001b[43m,\u001b[49m\u001b[43m \u001b[49m\u001b[43mvalue\u001b[49m\u001b[38;5;241;43m=\u001b[39;49m\u001b[43mxpath\u001b[49m\u001b[43m)\u001b[49m\n",
      "File \u001b[0;32m/Applications/anaconda3/envs/web_scraping/lib/python3.9/site-packages/selenium/webdriver/remote/webdriver.py:976\u001b[0m, in \u001b[0;36mWebDriver.find_element\u001b[0;34m(self, by, value)\u001b[0m\n\u001b[1;32m    974\u001b[0m         by \u001b[38;5;241m=\u001b[39m By\u001b[38;5;241m.\u001b[39mCSS_SELECTOR\n\u001b[1;32m    975\u001b[0m         value \u001b[38;5;241m=\u001b[39m \u001b[38;5;124m'\u001b[39m\u001b[38;5;124m[name=\u001b[39m\u001b[38;5;124m\"\u001b[39m\u001b[38;5;132;01m%s\u001b[39;00m\u001b[38;5;124m\"\u001b[39m\u001b[38;5;124m]\u001b[39m\u001b[38;5;124m'\u001b[39m \u001b[38;5;241m%\u001b[39m value\n\u001b[0;32m--> 976\u001b[0m \u001b[38;5;28;01mreturn\u001b[39;00m \u001b[38;5;28;43mself\u001b[39;49m\u001b[38;5;241;43m.\u001b[39;49m\u001b[43mexecute\u001b[49m\u001b[43m(\u001b[49m\u001b[43mCommand\u001b[49m\u001b[38;5;241;43m.\u001b[39;49m\u001b[43mFIND_ELEMENT\u001b[49m\u001b[43m,\u001b[49m\u001b[43m \u001b[49m\u001b[43m{\u001b[49m\n\u001b[1;32m    977\u001b[0m \u001b[43m    \u001b[49m\u001b[38;5;124;43m'\u001b[39;49m\u001b[38;5;124;43musing\u001b[39;49m\u001b[38;5;124;43m'\u001b[39;49m\u001b[43m:\u001b[49m\u001b[43m \u001b[49m\u001b[43mby\u001b[49m\u001b[43m,\u001b[49m\n\u001b[1;32m    978\u001b[0m \u001b[43m    \u001b[49m\u001b[38;5;124;43m'\u001b[39;49m\u001b[38;5;124;43mvalue\u001b[39;49m\u001b[38;5;124;43m'\u001b[39;49m\u001b[43m:\u001b[49m\u001b[43m \u001b[49m\u001b[43mvalue\u001b[49m\u001b[43m}\u001b[49m\u001b[43m)\u001b[49m[\u001b[38;5;124m'\u001b[39m\u001b[38;5;124mvalue\u001b[39m\u001b[38;5;124m'\u001b[39m]\n",
      "File \u001b[0;32m/Applications/anaconda3/envs/web_scraping/lib/python3.9/site-packages/selenium/webdriver/remote/webdriver.py:321\u001b[0m, in \u001b[0;36mWebDriver.execute\u001b[0;34m(self, driver_command, params)\u001b[0m\n\u001b[1;32m    319\u001b[0m response \u001b[38;5;241m=\u001b[39m \u001b[38;5;28mself\u001b[39m\u001b[38;5;241m.\u001b[39mcommand_executor\u001b[38;5;241m.\u001b[39mexecute(driver_command, params)\n\u001b[1;32m    320\u001b[0m \u001b[38;5;28;01mif\u001b[39;00m response:\n\u001b[0;32m--> 321\u001b[0m     \u001b[38;5;28;43mself\u001b[39;49m\u001b[38;5;241;43m.\u001b[39;49m\u001b[43merror_handler\u001b[49m\u001b[38;5;241;43m.\u001b[39;49m\u001b[43mcheck_response\u001b[49m\u001b[43m(\u001b[49m\u001b[43mresponse\u001b[49m\u001b[43m)\u001b[49m\n\u001b[1;32m    322\u001b[0m     response[\u001b[38;5;124m'\u001b[39m\u001b[38;5;124mvalue\u001b[39m\u001b[38;5;124m'\u001b[39m] \u001b[38;5;241m=\u001b[39m \u001b[38;5;28mself\u001b[39m\u001b[38;5;241m.\u001b[39m_unwrap_value(\n\u001b[1;32m    323\u001b[0m         response\u001b[38;5;241m.\u001b[39mget(\u001b[38;5;124m'\u001b[39m\u001b[38;5;124mvalue\u001b[39m\u001b[38;5;124m'\u001b[39m, \u001b[38;5;28;01mNone\u001b[39;00m))\n\u001b[1;32m    324\u001b[0m     \u001b[38;5;28;01mreturn\u001b[39;00m response\n",
      "File \u001b[0;32m/Applications/anaconda3/envs/web_scraping/lib/python3.9/site-packages/selenium/webdriver/remote/errorhandler.py:242\u001b[0m, in \u001b[0;36mErrorHandler.check_response\u001b[0;34m(self, response)\u001b[0m\n\u001b[1;32m    240\u001b[0m         alert_text \u001b[38;5;241m=\u001b[39m value[\u001b[38;5;124m'\u001b[39m\u001b[38;5;124malert\u001b[39m\u001b[38;5;124m'\u001b[39m]\u001b[38;5;241m.\u001b[39mget(\u001b[38;5;124m'\u001b[39m\u001b[38;5;124mtext\u001b[39m\u001b[38;5;124m'\u001b[39m)\n\u001b[1;32m    241\u001b[0m     \u001b[38;5;28;01mraise\u001b[39;00m exception_class(message, screen, stacktrace, alert_text)\n\u001b[0;32m--> 242\u001b[0m \u001b[38;5;28;01mraise\u001b[39;00m exception_class(message, screen, stacktrace)\n",
      "\u001b[0;31mWebDriverException\u001b[0m: Message: unknown error: unexpected command response\n  (Session info: chrome=103.0.5060.53)\n"
     ]
    }
   ],
   "source": [
    "franchise = 'Portland Trail Blazers'\n",
    "\n",
    "min_PERs = []\n",
    "avg_PERs = []\n",
    "seasons = []\n",
    "teams = []\n",
    "\n",
    "for j in range(40):\n",
    "    PERs = []\n",
    "\n",
    "    num_players = driver.find_element_by_xpath('//*[@id=\"advanced\"]/tbody').find_elements_by_tag_name('tr')\n",
    "\n",
    "    for i in range(len(num_players)):\n",
    "        per = driver.find_element_by_xpath('//*[@id=\"advanced\"]/tbody/tr[{}]/td[5]'.format(i+1))\n",
    "        if per.text == '':\n",
    "            continue\n",
    "        else:\n",
    "            per = float(per.text)\n",
    "\n",
    "        PERs.append(per)\n",
    "        time.sleep(2)\n",
    "        \n",
    "    min_PERs.append(min(PERs))\n",
    "    avg_PERs.append(round(sum(PERs) / len(PERs), 2))\n",
    "    \n",
    "    go_prev = driver.find_element_by_xpath('//*[@id=\"meta\"]/div[2]/div/a/div')\n",
    "    go_prev.click()\n",
    "    time.sleep(2)\n",
    "    \n",
    "    season = 2021 - j\n",
    "    seasons.append(season)\n",
    "    \n",
    "    team = franchise\n",
    "    teams.append(team)"
   ]
  },
  {
   "cell_type": "code",
   "execution_count": 149,
   "id": "93857e5b",
   "metadata": {},
   "outputs": [],
   "source": [
    "df1 = pd.DataFrame(min_PERs)\n",
    "df2 = pd.DataFrame(avg_PERs)\n",
    "df3 = pd.DataFrame(seasons)\n",
    "data = pd.concat([df1, df2, df3], axis=1)\n",
    "data.columns = ['min', 'avg', 'season']\n",
    "data = data.dropna(how='any')\n",
    "data.to_csv('sac.csv')"
   ]
  },
  {
   "cell_type": "code",
   "execution_count": 44,
   "id": "e0d9b856",
   "metadata": {},
   "outputs": [
    {
     "data": {
      "text/plain": [
       "[20.3,\n",
       " 14.1,\n",
       " 24.7,\n",
       " 11.6,\n",
       " 12.8,\n",
       " 21.9,\n",
       " 13.9,\n",
       " 6.7,\n",
       " 13.6,\n",
       " 13.5,\n",
       " 8.5,\n",
       " 12.3,\n",
       " 6.2,\n",
       " 7.0,\n",
       " 8.5,\n",
       " 3.7]"
      ]
     },
     "execution_count": 44,
     "metadata": {},
     "output_type": "execute_result"
    }
   ],
   "source": [
    "min_PERs = []\n",
    "avg_PERs = []\n",
    "seasons = []\n",
    "\n",
    "PERs = []\n",
    "\n",
    "num_players = driver.find_element_by_xpath('//*[@id=\"advanced\"]/tbody').find_elements_by_tag_name('tr')\n",
    "\n",
    "for i in range(len(num_players)):\n",
    "    per = driver.find_element_by_xpath('//*[@id=\"advanced\"]/tbody/tr[{}]/td[5]'.format(i+1))\n",
    "    if per.text == '':\n",
    "        continue\n",
    "    else:\n",
    "        per = float(per.text)\n",
    "\n",
    "    PERs.append(per)\n",
    "    time.sleep(2)\n",
    "        \n",
    "min_PERs.append(min(PERs))\n",
    "avg_PERs.append(round(sum(PERs) / len(PERs), 2))\n",
    "\n",
    "PERs"
   ]
  },
  {
   "cell_type": "code",
   "execution_count": 43,
   "id": "9d35f687",
   "metadata": {
    "scrolled": true
   },
   "outputs": [
    {
     "data": {
      "text/plain": [
       "''"
      ]
     },
     "execution_count": 43,
     "metadata": {},
     "output_type": "execute_result"
    }
   ],
   "source": [
    "per = driver.find_element_by_xpath('//*[@id=\"advanced\"]/tbody/tr[17]/td[5]')\n",
    "per.text"
   ]
  },
  {
   "cell_type": "code",
   "execution_count": 234,
   "id": "97792b3b",
   "metadata": {},
   "outputs": [
    {
     "name": "stdout",
     "output_type": "stream",
     "text": [
      "14.66\n",
      "9.7\n"
     ]
    }
   ],
   "source": [
    "per = [\n",
    "    20.5,\n",
    "    12.7,\n",
    "    19.6,\n",
    "    16.1,\n",
    "    10.6,\n",
    "    15.6,\n",
    "    14.7,\n",
    "    17.7,\n",
    "    11.7,\n",
    "    9.7,\n",
    "    9.7,\n",
    "    12.1,\n",
    "    19.9\n",
    "]\n",
    "\n",
    "print(round(sum(per) / len(per), 2))\n",
    "print(min(per))"
   ]
  },
  {
   "cell_type": "code",
   "execution_count": 235,
   "id": "c85d1399",
   "metadata": {},
   "outputs": [
    {
     "data": {
      "text/plain": [
       "40"
      ]
     },
     "execution_count": 235,
     "metadata": {},
     "output_type": "execute_result"
    }
   ],
   "source": [
    "avg_per = [\n",
    "    11.09,\n",
    "    12.5,\n",
    "    10.29,\n",
    "    6.13,\n",
    "    12.44,\n",
    "    12.39,\n",
    "    13.14,\n",
    "    12.01,\n",
    "    9.87,\n",
    "    13.37,\n",
    "    12.96,\n",
    "    11.74,\n",
    "    12.59,\n",
    "    17.11,\n",
    "    10.37,\n",
    "    11.39,\n",
    "    12.65,\n",
    "    12.05,\n",
    "    15.51,\n",
    "    12.22,\n",
    "    13.78,\n",
    "    14.66,\n",
    "    11.41,\n",
    "    13.32,\n",
    "    12.92,\n",
    "    13.86,\n",
    "    14.08,\n",
    "    12.39,\n",
    "    17.06,\n",
    "    15.36,\n",
    "    13.33,\n",
    "    15.21,\n",
    "    14.04,\n",
    "    10.27,\n",
    "    14.3,\n",
    "    13.49,\n",
    "    10.38,\n",
    "    10.51,\n",
    "    12.58,\n",
    "    14.66\n",
    "]\n",
    "\n",
    "min_per = [\n",
    "    -0.8,\n",
    "    1,\n",
    "    -7.7,\n",
    "    -38.1,\n",
    "    -5,\n",
    "    5.4,\n",
    "    6,\n",
    "    -11,\n",
    "    -16.5,\n",
    "    7,\n",
    "    3.1,\n",
    "    1.7,\n",
    "    -1.7,\n",
    "    5.1,\n",
    "    -18.9,\n",
    "    -3.3,\n",
    "    -1.1,\n",
    "    -12.9,\n",
    "    9.9,\n",
    "    -2,\n",
    "    7.8,\n",
    "    2.4,\n",
    "    1,\n",
    "    4.5,\n",
    "    2.2,\n",
    "    -7.3,\n",
    "    8.1,\n",
    "    -19.8,\n",
    "    11.9,\n",
    "    8.7,\n",
    "    3.2,\n",
    "    9.4,\n",
    "    9.9,\n",
    "    -43.7,\n",
    "    7.1,\n",
    "    6.2,\n",
    "    -5.9,\n",
    "    0.5,\n",
    "    0.5,\n",
    "    9.7\n",
    "]\n",
    "\n",
    "len(min_per)"
   ]
  },
  {
   "cell_type": "code",
   "execution_count": 236,
   "id": "c9746157",
   "metadata": {},
   "outputs": [
    {
     "data": {
      "text/plain": [
       "[2021,\n",
       " 2020,\n",
       " 2019,\n",
       " 2018,\n",
       " 2017,\n",
       " 2016,\n",
       " 2015,\n",
       " 2014,\n",
       " 2013,\n",
       " 2012,\n",
       " 2011,\n",
       " 2010,\n",
       " 2009,\n",
       " 2008,\n",
       " 2007,\n",
       " 2006,\n",
       " 2005,\n",
       " 2004,\n",
       " 2003,\n",
       " 2002,\n",
       " 2001,\n",
       " 2000,\n",
       " 1999,\n",
       " 1998,\n",
       " 1997,\n",
       " 1996,\n",
       " 1995,\n",
       " 1994,\n",
       " 1993,\n",
       " 1992,\n",
       " 1991,\n",
       " 1990,\n",
       " 1989,\n",
       " 1988,\n",
       " 1987,\n",
       " 1986,\n",
       " 1985,\n",
       " 1984,\n",
       " 1983,\n",
       " 1982]"
      ]
     },
     "execution_count": 236,
     "metadata": {},
     "output_type": "execute_result"
    }
   ],
   "source": [
    "seasons = []\n",
    "franchise = []\n",
    "\n",
    "for i in range(len(min_per)):\n",
    "    season = 2021 - i\n",
    "    seasons.append(season)\n",
    "    \n",
    "    team = 'Oklahoma City Thunder'\n",
    "    franchise.append(team)\n",
    "    \n",
    "seasons"
   ]
  },
  {
   "cell_type": "code",
   "execution_count": 237,
   "id": "ae629050",
   "metadata": {},
   "outputs": [],
   "source": [
    "df1 = pd.DataFrame(avg_per)\n",
    "df2 = pd.DataFrame(min_per)\n",
    "df3 = pd.DataFrame(seasons)\n",
    "df4 = pd.DataFrame(franchise)\n",
    "\n",
    "data = pd.concat([df1, df2, df3, df4], axis=1)\n",
    "data.columns = ['min', 'avg', 'season', 'team']\n",
    "data = data.dropna(how='any')\n",
    "data.to_csv('okc.csv')"
   ]
  },
  {
   "cell_type": "code",
   "execution_count": null,
   "id": "d4ede455",
   "metadata": {},
   "outputs": [],
   "source": []
  }
 ],
 "metadata": {
  "kernelspec": {
   "display_name": "Python 3 (ipykernel)",
   "language": "python",
   "name": "python3"
  },
  "language_info": {
   "codemirror_mode": {
    "name": "ipython",
    "version": 3
   },
   "file_extension": ".py",
   "mimetype": "text/x-python",
   "name": "python",
   "nbconvert_exporter": "python",
   "pygments_lexer": "ipython3",
   "version": "3.9.12"
  }
 },
 "nbformat": 4,
 "nbformat_minor": 5
}
