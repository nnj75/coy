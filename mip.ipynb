{
 "cells": [
  {
   "cell_type": "code",
   "execution_count": 1,
   "id": "dd25b1f1",
   "metadata": {},
   "outputs": [],
   "source": [
    "from selenium import webdriver\n",
    "import chromedriver_binary\n",
    "import time\n",
    "import pandas as pd\n",
    "\n",
    "driver = webdriver.Chrome()"
   ]
  },
  {
   "cell_type": "code",
   "execution_count": 2,
   "id": "dc3d1fcf",
   "metadata": {},
   "outputs": [],
   "source": [
    "driver.get('http://www.espn.com/nba/history/awards/_/id/36')"
   ]
  },
  {
   "cell_type": "code",
   "execution_count": 6,
   "id": "c833780d",
   "metadata": {},
   "outputs": [
    {
     "name": "stderr",
     "output_type": "stream",
     "text": [
      "/var/folders/9g/_t0rc8jx1x39gdxhtwx6q1vw0000gn/T/ipykernel_23259/618360548.py:1: DeprecationWarning: find_element_by_* commands are deprecated. Please use find_element() instead\n",
      "  elem = driver.find_element_by_xpath('//*[@id=\"my-players-table\"]/div[1]/div/table/tbody/tr[3]/td[1]')\n"
     ]
    },
    {
     "data": {
      "text/plain": [
       "'2021'"
      ]
     },
     "execution_count": 6,
     "metadata": {},
     "output_type": "execute_result"
    }
   ],
   "source": [
    "elem = driver.find_element_by_xpath('//*[@id=\"my-players-table\"]/div[1]/div/table/tbody/tr[3]/td[1]')\n",
    "season = elem.text\n",
    "season"
   ]
  },
  {
   "cell_type": "code",
   "execution_count": 10,
   "id": "2a0e97f0",
   "metadata": {},
   "outputs": [
    {
     "name": "stderr",
     "output_type": "stream",
     "text": [
      "/var/folders/9g/_t0rc8jx1x39gdxhtwx6q1vw0000gn/T/ipykernel_23259/55060938.py:5: DeprecationWarning: find_element_by_* commands are deprecated. Please use find_element() instead\n",
      "  elem = driver.find_element_by_xpath('//*[@id=\"my-players-table\"]/div[1]/div/table/tbody/tr[{}]/td[1]'.format(i+3))\n",
      "/var/folders/9g/_t0rc8jx1x39gdxhtwx6q1vw0000gn/T/ipykernel_23259/55060938.py:10: DeprecationWarning: find_element_by_* commands are deprecated. Please use find_element() instead\n",
      "  elem = driver.find_element_by_xpath('//*[@id=\"my-players-table\"]/div[1]/div/table/tbody/tr[{}]/td[4]'.format(i+3))\n"
     ]
    }
   ],
   "source": [
    "seasons = []\n",
    "teams = []\n",
    "\n",
    "for i in range(len(n)):\n",
    "    elem = driver.find_element_by_xpath('//*[@id=\"my-players-table\"]/div[1]/div/table/tbody/tr[{}]/td[1]'.format(i+3))\n",
    "    season = elem.text\n",
    "    seasons.append(season)\n",
    "    \n",
    "for i in range(len(n)):\n",
    "    elem = driver.find_element_by_xpath('//*[@id=\"my-players-table\"]/div[1]/div/table/tbody/tr[{}]/td[4]'.format(i+3))\n",
    "    team = elem.text\n",
    "    teams.append(team)"
   ]
  },
  {
   "cell_type": "code",
   "execution_count": 9,
   "id": "1da9d334",
   "metadata": {},
   "outputs": [
    {
     "name": "stderr",
     "output_type": "stream",
     "text": [
      "/var/folders/9g/_t0rc8jx1x39gdxhtwx6q1vw0000gn/T/ipykernel_23259/4108180810.py:1: DeprecationWarning: find_elements_by_* commands are deprecated. Please use find_elements() instead\n",
      "  n = driver.find_elements_by_class_name('oddrow')\n"
     ]
    },
    {
     "data": {
      "text/plain": [
       "36"
      ]
     },
     "execution_count": 9,
     "metadata": {},
     "output_type": "execute_result"
    }
   ],
   "source": [
    "n = driver.find_elements_by_class_name('oddrow')\n",
    "len(n)"
   ]
  },
  {
   "cell_type": "code",
   "execution_count": 17,
   "id": "42853d25",
   "metadata": {},
   "outputs": [],
   "source": [
    "mip_seasons = pd.DataFrame(seasons, columns=['season'])"
   ]
  },
  {
   "cell_type": "code",
   "execution_count": 18,
   "id": "b09bd091",
   "metadata": {},
   "outputs": [],
   "source": [
    "mip_teams = pd.DataFrame(teams, columns=['team'])"
   ]
  },
  {
   "cell_type": "code",
   "execution_count": 19,
   "id": "4fba18c0",
   "metadata": {},
   "outputs": [],
   "source": [
    "mip_df = pd.concat([mip_seasons, mip_teams], axis=1)"
   ]
  },
  {
   "cell_type": "code",
   "execution_count": 20,
   "id": "909f0f53",
   "metadata": {},
   "outputs": [
    {
     "data": {
      "text/html": [
       "<div>\n",
       "<style scoped>\n",
       "    .dataframe tbody tr th:only-of-type {\n",
       "        vertical-align: middle;\n",
       "    }\n",
       "\n",
       "    .dataframe tbody tr th {\n",
       "        vertical-align: top;\n",
       "    }\n",
       "\n",
       "    .dataframe thead th {\n",
       "        text-align: right;\n",
       "    }\n",
       "</style>\n",
       "<table border=\"1\" class=\"dataframe\">\n",
       "  <thead>\n",
       "    <tr style=\"text-align: right;\">\n",
       "      <th></th>\n",
       "      <th>season</th>\n",
       "      <th>team</th>\n",
       "    </tr>\n",
       "  </thead>\n",
       "  <tbody>\n",
       "    <tr>\n",
       "      <th>0</th>\n",
       "      <td>2021</td>\n",
       "      <td>New York Knicks</td>\n",
       "    </tr>\n",
       "    <tr>\n",
       "      <th>1</th>\n",
       "      <td>2020</td>\n",
       "      <td>New Orleans Pelicans</td>\n",
       "    </tr>\n",
       "    <tr>\n",
       "      <th>2</th>\n",
       "      <td>2019</td>\n",
       "      <td>Toronto Raptors</td>\n",
       "    </tr>\n",
       "    <tr>\n",
       "      <th>3</th>\n",
       "      <td>2018</td>\n",
       "      <td>Indiana Pacers</td>\n",
       "    </tr>\n",
       "    <tr>\n",
       "      <th>4</th>\n",
       "      <td>2017</td>\n",
       "      <td>Milwaukee Bucks</td>\n",
       "    </tr>\n",
       "    <tr>\n",
       "      <th>5</th>\n",
       "      <td>2016</td>\n",
       "      <td>Portland Trail Blazers</td>\n",
       "    </tr>\n",
       "    <tr>\n",
       "      <th>6</th>\n",
       "      <td>2015</td>\n",
       "      <td>Chicago Bulls</td>\n",
       "    </tr>\n",
       "    <tr>\n",
       "      <th>7</th>\n",
       "      <td>2014</td>\n",
       "      <td>Phoenix Suns</td>\n",
       "    </tr>\n",
       "    <tr>\n",
       "      <th>8</th>\n",
       "      <td>2013</td>\n",
       "      <td>Indiana Pacers</td>\n",
       "    </tr>\n",
       "    <tr>\n",
       "      <th>9</th>\n",
       "      <td>2012</td>\n",
       "      <td>Orlando Magic</td>\n",
       "    </tr>\n",
       "    <tr>\n",
       "      <th>10</th>\n",
       "      <td>2011</td>\n",
       "      <td>Minnesota Timberwolves</td>\n",
       "    </tr>\n",
       "    <tr>\n",
       "      <th>11</th>\n",
       "      <td>2010</td>\n",
       "      <td>Houston Rockets</td>\n",
       "    </tr>\n",
       "    <tr>\n",
       "      <th>12</th>\n",
       "      <td>2009</td>\n",
       "      <td>Indiana Pacers</td>\n",
       "    </tr>\n",
       "    <tr>\n",
       "      <th>13</th>\n",
       "      <td>2008</td>\n",
       "      <td>Orlando Magic</td>\n",
       "    </tr>\n",
       "    <tr>\n",
       "      <th>14</th>\n",
       "      <td>2007</td>\n",
       "      <td>Golden State Warriors</td>\n",
       "    </tr>\n",
       "    <tr>\n",
       "      <th>15</th>\n",
       "      <td>2006</td>\n",
       "      <td>Phoenix Suns</td>\n",
       "    </tr>\n",
       "    <tr>\n",
       "      <th>16</th>\n",
       "      <td>2005</td>\n",
       "      <td>LA Clippers</td>\n",
       "    </tr>\n",
       "    <tr>\n",
       "      <th>17</th>\n",
       "      <td>2004</td>\n",
       "      <td>Portland Trail Blazers</td>\n",
       "    </tr>\n",
       "    <tr>\n",
       "      <th>18</th>\n",
       "      <td>2003</td>\n",
       "      <td>Golden State Warriors</td>\n",
       "    </tr>\n",
       "    <tr>\n",
       "      <th>19</th>\n",
       "      <td>2002</td>\n",
       "      <td>Indiana Pacers</td>\n",
       "    </tr>\n",
       "    <tr>\n",
       "      <th>20</th>\n",
       "      <td>2001</td>\n",
       "      <td>Orlando Magic</td>\n",
       "    </tr>\n",
       "    <tr>\n",
       "      <th>21</th>\n",
       "      <td>2000</td>\n",
       "      <td>Indiana Pacers</td>\n",
       "    </tr>\n",
       "    <tr>\n",
       "      <th>22</th>\n",
       "      <td>1999</td>\n",
       "      <td>Orlando Magic</td>\n",
       "    </tr>\n",
       "    <tr>\n",
       "      <th>23</th>\n",
       "      <td>1998</td>\n",
       "      <td>Atlanta Hawks</td>\n",
       "    </tr>\n",
       "    <tr>\n",
       "      <th>24</th>\n",
       "      <td>1997</td>\n",
       "      <td>Miami Heat</td>\n",
       "    </tr>\n",
       "    <tr>\n",
       "      <th>25</th>\n",
       "      <td>1996</td>\n",
       "      <td>Washington Bullets</td>\n",
       "    </tr>\n",
       "    <tr>\n",
       "      <th>26</th>\n",
       "      <td>1995</td>\n",
       "      <td>Philadelphia 76ers</td>\n",
       "    </tr>\n",
       "    <tr>\n",
       "      <th>27</th>\n",
       "      <td>1994</td>\n",
       "      <td>Washington Bullets</td>\n",
       "    </tr>\n",
       "    <tr>\n",
       "      <th>28</th>\n",
       "      <td>1993</td>\n",
       "      <td>Denver Nuggets</td>\n",
       "    </tr>\n",
       "    <tr>\n",
       "      <th>29</th>\n",
       "      <td>1992</td>\n",
       "      <td>Washington Bullets</td>\n",
       "    </tr>\n",
       "    <tr>\n",
       "      <th>30</th>\n",
       "      <td>1991</td>\n",
       "      <td>Orlando Magic</td>\n",
       "    </tr>\n",
       "    <tr>\n",
       "      <th>31</th>\n",
       "      <td>1990</td>\n",
       "      <td>Miami Heat</td>\n",
       "    </tr>\n",
       "    <tr>\n",
       "      <th>32</th>\n",
       "      <td>1989</td>\n",
       "      <td>Phoenix Suns</td>\n",
       "    </tr>\n",
       "    <tr>\n",
       "      <th>33</th>\n",
       "      <td>1988</td>\n",
       "      <td>Portland Trail Blazers</td>\n",
       "    </tr>\n",
       "    <tr>\n",
       "      <th>34</th>\n",
       "      <td>1987</td>\n",
       "      <td>Seattle SuperSonics</td>\n",
       "    </tr>\n",
       "    <tr>\n",
       "      <th>35</th>\n",
       "      <td>1986</td>\n",
       "      <td>San Antonio Spurs</td>\n",
       "    </tr>\n",
       "  </tbody>\n",
       "</table>\n",
       "</div>"
      ],
      "text/plain": [
       "   season                    team\n",
       "0    2021         New York Knicks\n",
       "1    2020    New Orleans Pelicans\n",
       "2    2019         Toronto Raptors\n",
       "3    2018          Indiana Pacers\n",
       "4    2017         Milwaukee Bucks\n",
       "5    2016  Portland Trail Blazers\n",
       "6    2015           Chicago Bulls\n",
       "7    2014            Phoenix Suns\n",
       "8    2013          Indiana Pacers\n",
       "9    2012           Orlando Magic\n",
       "10   2011  Minnesota Timberwolves\n",
       "11   2010         Houston Rockets\n",
       "12   2009          Indiana Pacers\n",
       "13   2008           Orlando Magic\n",
       "14   2007   Golden State Warriors\n",
       "15   2006            Phoenix Suns\n",
       "16   2005             LA Clippers\n",
       "17   2004  Portland Trail Blazers\n",
       "18   2003   Golden State Warriors\n",
       "19   2002          Indiana Pacers\n",
       "20   2001           Orlando Magic\n",
       "21   2000          Indiana Pacers\n",
       "22   1999           Orlando Magic\n",
       "23   1998           Atlanta Hawks\n",
       "24   1997              Miami Heat\n",
       "25   1996      Washington Bullets\n",
       "26   1995      Philadelphia 76ers\n",
       "27   1994      Washington Bullets\n",
       "28   1993          Denver Nuggets\n",
       "29   1992      Washington Bullets\n",
       "30   1991           Orlando Magic\n",
       "31   1990              Miami Heat\n",
       "32   1989            Phoenix Suns\n",
       "33   1988  Portland Trail Blazers\n",
       "34   1987     Seattle SuperSonics\n",
       "35   1986       San Antonio Spurs"
      ]
     },
     "execution_count": 20,
     "metadata": {},
     "output_type": "execute_result"
    }
   ],
   "source": [
    "mip_df"
   ]
  },
  {
   "cell_type": "code",
   "execution_count": 21,
   "id": "96495e3e",
   "metadata": {},
   "outputs": [],
   "source": [
    "mip_df.to_csv('mip.csv')"
   ]
  },
  {
   "cell_type": "code",
   "execution_count": null,
   "id": "30abdf67",
   "metadata": {},
   "outputs": [],
   "source": []
  }
 ],
 "metadata": {
  "kernelspec": {
   "display_name": "Python 3 (ipykernel)",
   "language": "python",
   "name": "python3"
  },
  "language_info": {
   "codemirror_mode": {
    "name": "ipython",
    "version": 3
   },
   "file_extension": ".py",
   "mimetype": "text/x-python",
   "name": "python",
   "nbconvert_exporter": "python",
   "pygments_lexer": "ipython3",
   "version": "3.9.7"
  }
 },
 "nbformat": 4,
 "nbformat_minor": 5
}
