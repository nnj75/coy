{
  "nbformat": 4,
  "nbformat_minor": 0,
  "metadata": {
    "colab": {
      "name": "coy_analyse.ipynb",
      "provenance": [],
      "collapsed_sections": []
    },
    "kernelspec": {
      "name": "python3",
      "display_name": "Python 3"
    },
    "language_info": {
      "name": "python"
    }
  },
  "cells": [
    {
      "cell_type": "code",
      "execution_count": null,
      "metadata": {
        "id": "JjZjinpjPteP"
      },
      "outputs": [],
      "source": [
        "import pandas as pd\n",
        "import numpy as np\n",
        "import matplotlib.pyplot as plt"
      ]
    },
    {
      "cell_type": "code",
      "source": [
        "raw_data = pd.read_csv('nba_coach_of_the_year.csv')"
      ],
      "metadata": {
        "id": "FFK76maQPzfo"
      },
      "execution_count": null,
      "outputs": []
    },
    {
      "cell_type": "code",
      "source": [
        "#コーチオブザイヤーを受賞した（１）かしてない（０）か＝y\n",
        "#その他＝x\n",
        "\n",
        "raw_data = raw_data.drop('season', axis=1)\n",
        "x = raw_data.iloc[:, 2:-1].values\n",
        "y = raw_data.iloc[:, -1].values"
      ],
      "metadata": {
        "id": "qy_xdMvZQrn8"
      },
      "execution_count": null,
      "outputs": []
    },
    {
      "cell_type": "code",
      "source": [
        "#受賞したデータとしてないデータの比率が（ほぼ）1:29なので、受賞したデータを増やしてバランスをよくする\n",
        "\n",
        "from imblearn.over_sampling import RandomOverSampler\n",
        "\n",
        "sampler = RandomOverSampler(random_state=0)\n",
        "x_resampled, y_resampled = sampler.fit_resample(x, y)"
      ],
      "metadata": {
        "id": "vgYiOZ7yzd1d"
      },
      "execution_count": null,
      "outputs": []
    },
    {
      "cell_type": "code",
      "source": [
        "from sklearn.preprocessing import StandardScaler\n",
        "\n",
        "scaler = StandardScaler()\n",
        "x_scaled = scaler.fit_transform(x_resampled)"
      ],
      "metadata": {
        "id": "xLaVxGqtSpAr"
      },
      "execution_count": null,
      "outputs": []
    },
    {
      "cell_type": "code",
      "source": [
        "from sklearn.model_selection import train_test_split\n",
        "\n",
        "x_train, x_test, y_train, y_test = train_test_split(x_scaled, y_resampled, test_size=0.2, random_state=42)"
      ],
      "metadata": {
        "id": "nuq1W55vWd5m"
      },
      "execution_count": null,
      "outputs": []
    },
    {
      "cell_type": "code",
      "source": [
        "import tensorflow as tf\n",
        "\n",
        "ann = tf.keras.models.Sequential()\n",
        "ann.add(tf.keras.layers.Dense(units=10, activation='relu'))\n",
        "ann.add(tf.keras.layers.Dense(units=10, activation='relu'))\n",
        "ann.add(tf.keras.layers.Dense(units=10, activation='relu'))\n",
        "ann.add(tf.keras.layers.Dense(units='1', activation='sigmoid'))\n",
        "\n",
        "ann.compile(optimizer='adam', loss='binary_crossentropy', metrics=['accuracy'])\n",
        "\n",
        "ann.fit(x_train, y_train, batch_size=32, epochs=70)"
      ],
      "metadata": {
        "colab": {
          "base_uri": "https://localhost:8080/"
        },
        "id": "WVkpwod80kIf",
        "outputId": "fc50b79a-f7bc-460d-cfb5-4bb2fa200728"
      },
      "execution_count": null,
      "outputs": [
        {
          "output_type": "stream",
          "name": "stdout",
          "text": [
            "Epoch 1/70\n",
            "47/47 [==============================] - 1s 4ms/step - loss: 0.6060 - accuracy: 0.7586\n",
            "Epoch 2/70\n",
            "47/47 [==============================] - 0s 4ms/step - loss: 0.5076 - accuracy: 0.8478\n",
            "Epoch 3/70\n",
            "47/47 [==============================] - 0s 3ms/step - loss: 0.4168 - accuracy: 0.8659\n",
            "Epoch 4/70\n",
            "47/47 [==============================] - 0s 4ms/step - loss: 0.3790 - accuracy: 0.8719\n",
            "Epoch 5/70\n",
            "47/47 [==============================] - 0s 4ms/step - loss: 0.3668 - accuracy: 0.8766\n",
            "Epoch 6/70\n",
            "47/47 [==============================] - 0s 4ms/step - loss: 0.3587 - accuracy: 0.8773\n",
            "Epoch 7/70\n",
            "47/47 [==============================] - 0s 4ms/step - loss: 0.3515 - accuracy: 0.8833\n",
            "Epoch 8/70\n",
            "47/47 [==============================] - 0s 4ms/step - loss: 0.3463 - accuracy: 0.8860\n",
            "Epoch 9/70\n",
            "47/47 [==============================] - 0s 4ms/step - loss: 0.3418 - accuracy: 0.8880\n",
            "Epoch 10/70\n",
            "47/47 [==============================] - 0s 4ms/step - loss: 0.3370 - accuracy: 0.8893\n",
            "Epoch 11/70\n",
            "47/47 [==============================] - 0s 3ms/step - loss: 0.3325 - accuracy: 0.8887\n",
            "Epoch 12/70\n",
            "47/47 [==============================] - 0s 4ms/step - loss: 0.3284 - accuracy: 0.8907\n",
            "Epoch 13/70\n",
            "47/47 [==============================] - 0s 4ms/step - loss: 0.3252 - accuracy: 0.8880\n",
            "Epoch 14/70\n",
            "47/47 [==============================] - 0s 4ms/step - loss: 0.3205 - accuracy: 0.8927\n",
            "Epoch 15/70\n",
            "47/47 [==============================] - 0s 4ms/step - loss: 0.3172 - accuracy: 0.8954\n",
            "Epoch 16/70\n",
            "47/47 [==============================] - 0s 4ms/step - loss: 0.3138 - accuracy: 0.8987\n",
            "Epoch 17/70\n",
            "47/47 [==============================] - 0s 4ms/step - loss: 0.3108 - accuracy: 0.8820\n",
            "Epoch 18/70\n",
            "47/47 [==============================] - 0s 4ms/step - loss: 0.3079 - accuracy: 0.8893\n",
            "Epoch 19/70\n",
            "47/47 [==============================] - 0s 6ms/step - loss: 0.3043 - accuracy: 0.8900\n",
            "Epoch 20/70\n",
            "47/47 [==============================] - 0s 7ms/step - loss: 0.3013 - accuracy: 0.8846\n",
            "Epoch 21/70\n",
            "47/47 [==============================] - 0s 5ms/step - loss: 0.2982 - accuracy: 0.9088\n",
            "Epoch 22/70\n",
            "47/47 [==============================] - 0s 2ms/step - loss: 0.2951 - accuracy: 0.8940\n",
            "Epoch 23/70\n",
            "47/47 [==============================] - 0s 2ms/step - loss: 0.2923 - accuracy: 0.8947\n",
            "Epoch 24/70\n",
            "47/47 [==============================] - 0s 2ms/step - loss: 0.2892 - accuracy: 0.9068\n",
            "Epoch 25/70\n",
            "47/47 [==============================] - 0s 2ms/step - loss: 0.2857 - accuracy: 0.8954\n",
            "Epoch 26/70\n",
            "47/47 [==============================] - 0s 2ms/step - loss: 0.2832 - accuracy: 0.9021\n",
            "Epoch 27/70\n",
            "47/47 [==============================] - 0s 2ms/step - loss: 0.2793 - accuracy: 0.9095\n",
            "Epoch 28/70\n",
            "47/47 [==============================] - 0s 3ms/step - loss: 0.2767 - accuracy: 0.9048\n",
            "Epoch 29/70\n",
            "47/47 [==============================] - 0s 3ms/step - loss: 0.2734 - accuracy: 0.9108\n",
            "Epoch 30/70\n",
            "47/47 [==============================] - 0s 2ms/step - loss: 0.2709 - accuracy: 0.9048\n",
            "Epoch 31/70\n",
            "47/47 [==============================] - 0s 2ms/step - loss: 0.2690 - accuracy: 0.9088\n",
            "Epoch 32/70\n",
            "47/47 [==============================] - 0s 2ms/step - loss: 0.2669 - accuracy: 0.9041\n",
            "Epoch 33/70\n",
            "47/47 [==============================] - 0s 2ms/step - loss: 0.2625 - accuracy: 0.9021\n",
            "Epoch 34/70\n",
            "47/47 [==============================] - 0s 2ms/step - loss: 0.2587 - accuracy: 0.9115\n",
            "Epoch 35/70\n",
            "47/47 [==============================] - 0s 2ms/step - loss: 0.2563 - accuracy: 0.9115\n",
            "Epoch 36/70\n",
            "47/47 [==============================] - 0s 2ms/step - loss: 0.2531 - accuracy: 0.9148\n",
            "Epoch 37/70\n",
            "47/47 [==============================] - 0s 2ms/step - loss: 0.2506 - accuracy: 0.9088\n",
            "Epoch 38/70\n",
            "47/47 [==============================] - 0s 2ms/step - loss: 0.2483 - accuracy: 0.9162\n",
            "Epoch 39/70\n",
            "47/47 [==============================] - 0s 3ms/step - loss: 0.2452 - accuracy: 0.9135\n",
            "Epoch 40/70\n",
            "47/47 [==============================] - 0s 2ms/step - loss: 0.2429 - accuracy: 0.9142\n",
            "Epoch 41/70\n",
            "47/47 [==============================] - 0s 2ms/step - loss: 0.2401 - accuracy: 0.9155\n",
            "Epoch 42/70\n",
            "47/47 [==============================] - 0s 2ms/step - loss: 0.2363 - accuracy: 0.9182\n",
            "Epoch 43/70\n",
            "47/47 [==============================] - 0s 2ms/step - loss: 0.2336 - accuracy: 0.9168\n",
            "Epoch 44/70\n",
            "47/47 [==============================] - 0s 2ms/step - loss: 0.2311 - accuracy: 0.9195\n",
            "Epoch 45/70\n",
            "47/47 [==============================] - 0s 2ms/step - loss: 0.2277 - accuracy: 0.9209\n",
            "Epoch 46/70\n",
            "47/47 [==============================] - 0s 2ms/step - loss: 0.2266 - accuracy: 0.9188\n",
            "Epoch 47/70\n",
            "47/47 [==============================] - 0s 3ms/step - loss: 0.2234 - accuracy: 0.9202\n",
            "Epoch 48/70\n",
            "47/47 [==============================] - 0s 2ms/step - loss: 0.2197 - accuracy: 0.9222\n",
            "Epoch 49/70\n",
            "47/47 [==============================] - 0s 2ms/step - loss: 0.2178 - accuracy: 0.9209\n",
            "Epoch 50/70\n",
            "47/47 [==============================] - 0s 2ms/step - loss: 0.2159 - accuracy: 0.9209\n",
            "Epoch 51/70\n",
            "47/47 [==============================] - 0s 2ms/step - loss: 0.2128 - accuracy: 0.9229\n",
            "Epoch 52/70\n",
            "47/47 [==============================] - 0s 2ms/step - loss: 0.2096 - accuracy: 0.9215\n",
            "Epoch 53/70\n",
            "47/47 [==============================] - 0s 2ms/step - loss: 0.2074 - accuracy: 0.9256\n",
            "Epoch 54/70\n",
            "47/47 [==============================] - 0s 2ms/step - loss: 0.2046 - accuracy: 0.9235\n",
            "Epoch 55/70\n",
            "47/47 [==============================] - 0s 2ms/step - loss: 0.2031 - accuracy: 0.9229\n",
            "Epoch 56/70\n",
            "47/47 [==============================] - 0s 3ms/step - loss: 0.1999 - accuracy: 0.9235\n",
            "Epoch 57/70\n",
            "47/47 [==============================] - 0s 3ms/step - loss: 0.1995 - accuracy: 0.9256\n",
            "Epoch 58/70\n",
            "47/47 [==============================] - 0s 2ms/step - loss: 0.1975 - accuracy: 0.9269\n",
            "Epoch 59/70\n",
            "47/47 [==============================] - 0s 2ms/step - loss: 0.1938 - accuracy: 0.9249\n",
            "Epoch 60/70\n",
            "47/47 [==============================] - 0s 2ms/step - loss: 0.1914 - accuracy: 0.9249\n",
            "Epoch 61/70\n",
            "47/47 [==============================] - 0s 2ms/step - loss: 0.1893 - accuracy: 0.9262\n",
            "Epoch 62/70\n",
            "47/47 [==============================] - 0s 2ms/step - loss: 0.1870 - accuracy: 0.9276\n",
            "Epoch 63/70\n",
            "47/47 [==============================] - 0s 2ms/step - loss: 0.1848 - accuracy: 0.9276\n",
            "Epoch 64/70\n",
            "47/47 [==============================] - 0s 2ms/step - loss: 0.1832 - accuracy: 0.9269\n",
            "Epoch 65/70\n",
            "47/47 [==============================] - 0s 3ms/step - loss: 0.1808 - accuracy: 0.9269\n",
            "Epoch 66/70\n",
            "47/47 [==============================] - 0s 2ms/step - loss: 0.1792 - accuracy: 0.9296\n",
            "Epoch 67/70\n",
            "47/47 [==============================] - 0s 3ms/step - loss: 0.1767 - accuracy: 0.9289\n",
            "Epoch 68/70\n",
            "47/47 [==============================] - 0s 2ms/step - loss: 0.1763 - accuracy: 0.9282\n",
            "Epoch 69/70\n",
            "47/47 [==============================] - 0s 2ms/step - loss: 0.1747 - accuracy: 0.9302\n",
            "Epoch 70/70\n",
            "47/47 [==============================] - 0s 2ms/step - loss: 0.1730 - accuracy: 0.9302\n"
          ]
        },
        {
          "output_type": "execute_result",
          "data": {
            "text/plain": [
              "<keras.callbacks.History at 0x7f12edfaf350>"
            ]
          },
          "metadata": {},
          "execution_count": 72
        }
      ]
    },
    {
      "cell_type": "code",
      "source": [
        "from sklearn.metrics import confusion_matrix, accuracy_score\n",
        "\n",
        "y_pred = ann.predict(x_test)\n",
        "y_pred = (y_pred > 0.5)\n",
        "\n",
        "cm = confusion_matrix(y_test, y_pred)\n",
        "\n",
        "print(cm)\n",
        "accuracy_score(y_pred, y_test)"
      ],
      "metadata": {
        "colab": {
          "base_uri": "https://localhost:8080/"
        },
        "id": "yak8UtUZ3zj1",
        "outputId": "712bd8c4-c74a-44c6-f0c7-9cfdc3774c5d"
      },
      "execution_count": null,
      "outputs": [
        {
          "output_type": "stream",
          "name": "stdout",
          "text": [
            "[[179  12]\n",
            " [ 10 172]]\n"
          ]
        },
        {
          "output_type": "execute_result",
          "data": {
            "text/plain": [
              "0.9410187667560321"
            ]
          },
          "metadata": {},
          "execution_count": 73
        }
      ]
    },
    {
      "cell_type": "code",
      "source": [
        "#今シーズンのCOYのノミネートされたコーチが在籍する３チーム\n",
        "#上からMIA、PHX、MEM\n",
        "\n",
        "nominees = np.array([\n",
        "                     [1, 0.646, 5, 0.09, 4.7, 17, 0, 0, 1],\n",
        "                     [1, 0.78, 1, 0.072, -3.3, 18.7, 1, 0, 0],\n",
        "                     [2, 0.683, 7, 0.155, -7.1, 15.27, 0, 1, 0]\n",
        "])"
      ],
      "metadata": {
        "id": "nK_q3Ix_9nYh"
      },
      "execution_count": null,
      "outputs": []
    },
    {
      "cell_type": "code",
      "source": [
        "nom_scaled = scaler.transform(nominees)"
      ],
      "metadata": {
        "id": "J5lCJa7t-Q6t"
      },
      "execution_count": null,
      "outputs": []
    },
    {
      "cell_type": "code",
      "source": [
        "print(ann.predict(nom_scaled))"
      ],
      "metadata": {
        "id": "Y1gYbaB7-RNA",
        "colab": {
          "base_uri": "https://localhost:8080/"
        },
        "outputId": "eb33e1c4-8fa0-4c20-c91f-a9cc3fb99d98"
      },
      "execution_count": null,
      "outputs": [
        {
          "output_type": "stream",
          "name": "stdout",
          "text": [
            "[[0.00536469]\n",
            " [0.03395596]\n",
            " [0.999915  ]]\n"
          ]
        }
      ]
    },
    {
      "cell_type": "code",
      "source": [
        "from sklearn.linear_model import LogisticRegression\n",
        "\n",
        "classifier = LogisticRegression()\n",
        "classifier.fit(x_train, y_train)"
      ],
      "metadata": {
        "id": "d7_2sM_5AFJy",
        "colab": {
          "base_uri": "https://localhost:8080/"
        },
        "outputId": "0920f59c-5c2a-4ddb-a840-949a9d593d37"
      },
      "execution_count": null,
      "outputs": [
        {
          "output_type": "execute_result",
          "data": {
            "text/plain": [
              "LogisticRegression()"
            ]
          },
          "metadata": {},
          "execution_count": 82
        }
      ]
    },
    {
      "cell_type": "code",
      "source": [
        "y_pred = classifier.predict(x_test)\n",
        "\n",
        "cm = confusion_matrix(y_test, y_pred)\n",
        "print(cm)\n",
        "accuracy_score(y_test,y_pred)"
      ],
      "metadata": {
        "colab": {
          "base_uri": "https://localhost:8080/"
        },
        "id": "uhYdYs3PgPEL",
        "outputId": "4d33cf59-5cae-4b67-e5ac-5e52ac77bb74"
      },
      "execution_count": null,
      "outputs": [
        {
          "output_type": "stream",
          "name": "stdout",
          "text": [
            "[[160  31]\n",
            " [ 19 163]]\n"
          ]
        },
        {
          "output_type": "execute_result",
          "data": {
            "text/plain": [
              "0.8659517426273459"
            ]
          },
          "metadata": {},
          "execution_count": 83
        }
      ]
    },
    {
      "cell_type": "code",
      "source": [
        "print(classifier.coef_)"
      ],
      "metadata": {
        "colab": {
          "base_uri": "https://localhost:8080/"
        },
        "id": "i1MpFecRgiAI",
        "outputId": "4ffb17e6-8915-47de-b5da-a0250e8cc120"
      },
      "execution_count": null,
      "outputs": [
        {
          "output_type": "stream",
          "name": "stdout",
          "text": [
            "[[-1.31396203  0.16964305 -1.00674782  2.40721404 -0.05094544 -0.09475517\n",
            "   0.21091315  0.02050081 -0.14271207]]\n"
          ]
        }
      ]
    },
    {
      "cell_type": "code",
      "source": [
        ""
      ],
      "metadata": {
        "id": "6-pOwMfkwyjI"
      },
      "execution_count": null,
      "outputs": []
    }
  ]
}